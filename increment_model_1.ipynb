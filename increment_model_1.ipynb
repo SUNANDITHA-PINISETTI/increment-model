{
  "nbformat": 4,
  "nbformat_minor": 0,
  "metadata": {
    "colab": {
      "provenance": [],
      "authorship_tag": "ABX9TyN0PNSov55xvUTtx+GtiFLS",
      "include_colab_link": true
    },
    "kernelspec": {
      "name": "python3",
      "display_name": "Python 3"
    },
    "language_info": {
      "name": "python"
    }
  },
  "cells": [
    {
      "cell_type": "markdown",
      "metadata": {
        "id": "view-in-github",
        "colab_type": "text"
      },
      "source": [
        "<a href=\"https://colab.research.google.com/github/SUNANDITHA-PINISETTI/increment-model/blob/main/increment_model_1.ipynb\" target=\"_parent\"><img src=\"https://colab.research.google.com/assets/colab-badge.svg\" alt=\"Open In Colab\"/></a>"
      ]
    },
    {
      "cell_type": "code",
      "execution_count": 1,
      "metadata": {
        "id": "QODV7DcotNbC"
      },
      "outputs": [],
      "source": [
        "# Increment 1\n",
        "def weather_prediction(temperature, humidity, wind_speed):\n",
        "    prediction = 0.5 * temperature**2 - 0.2 * humidity + 0.1 * wind_speed - 15\n",
        "    return prediction\n"
      ]
    },
    {
      "cell_type": "code",
      "source": [
        "temperature = 40\n",
        "humidity = 50\n",
        "wind_speed = 70\n",
        "prediction = weather_prediction(temperature, humidity, wind_speed)\n",
        "print(\"Weather Prediction:\", prediction)\n"
      ],
      "metadata": {
        "colab": {
          "base_uri": "https://localhost:8080/"
        },
        "id": "e7gdPlBXteNl",
        "outputId": "a0905858-bc26-40ac-c3d1-fd334e761207"
      },
      "execution_count": 2,
      "outputs": [
        {
          "output_type": "stream",
          "name": "stdout",
          "text": [
            "Weather Prediction: 782.0\n"
          ]
        }
      ]
    }
  ]
}